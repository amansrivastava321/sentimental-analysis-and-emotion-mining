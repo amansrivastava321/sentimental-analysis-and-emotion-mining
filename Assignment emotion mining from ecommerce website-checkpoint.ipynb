{
 "cells": [
  {
   "cell_type": "code",
   "execution_count": 11,
   "metadata": {},
   "outputs": [],
   "source": [
    "import requests\n",
    "from bs4 import BeautifulSoup\n",
    "import pandas as pd"
   ]
  },
  {
   "cell_type": "code",
   "execution_count": 12,
   "metadata": {},
   "outputs": [],
   "source": [
    "reviewlist = []"
   ]
  },
  {
   "cell_type": "code",
   "execution_count": 13,
   "metadata": {},
   "outputs": [],
   "source": [
    "def get_soup(url):\n",
    "    r = requests.get('http://localhost:8050/render.html', params={'url': url, 'wait': 2})\n",
    "    soup = BeautifulSoup(r.text, 'html.parser')\n",
    "    return soup"
   ]
  },
  {
   "cell_type": "code",
   "execution_count": 14,
   "metadata": {},
   "outputs": [],
   "source": [
    "def get_reviews(soup):\n",
    "    reviews = soup.find_all('div', {'data-hook': 'review'})\n",
    "    try:\n",
    "        for item in reviews:\n",
    "            review = {\n",
    "            'product': soup.title.text.replace('Amazon.in:Customer reviews:', '').strip(),\n",
    "            'title': item.find('a', {'data-hook': 'review-title'}).text.strip(),\n",
    "            'rating':  float(item.find('i', {'data-hook': 'review-star-rating'}).text.replace('out of 5 stars', '').strip()),\n",
    "            'body': item.find('span', {'data-hook': 'review-body'}).text.strip(),\n",
    "            }\n",
    "            reviewlist.append(review)\n",
    "    except:\n",
    "        pass"
   ]
  },
  {
   "cell_type": "code",
   "execution_count": 15,
   "metadata": {},
   "outputs": [
    {
     "name": "stdout",
     "output_type": "stream",
     "text": [
      "Getting page: 1\n",
      "0\n",
      "Getting page: 2\n",
      "0\n",
      "Getting page: 3\n",
      "0\n",
      "Getting page: 4\n",
      "10\n",
      "Getting page: 5\n",
      "20\n",
      "Getting page: 6\n",
      "20\n",
      "Getting page: 7\n",
      "30\n",
      "Getting page: 8\n",
      "30\n",
      "Getting page: 9\n",
      "30\n",
      "Getting page: 10\n",
      "30\n",
      "Getting page: 11\n",
      "30\n",
      "Getting page: 12\n",
      "40\n",
      "Getting page: 13\n",
      "40\n",
      "Getting page: 14\n",
      "40\n",
      "Getting page: 15\n",
      "50\n",
      "Getting page: 16\n",
      "60\n",
      "Getting page: 17\n",
      "70\n",
      "Getting page: 18\n",
      "80\n",
      "Getting page: 19\n",
      "90\n",
      "Getting page: 20\n",
      "90\n",
      "Getting page: 21\n",
      "90\n",
      "Getting page: 22\n",
      "90\n",
      "Getting page: 23\n",
      "100\n",
      "Getting page: 24\n",
      "100\n",
      "Getting page: 25\n",
      "100\n",
      "Getting page: 26\n",
      "100\n",
      "Getting page: 27\n",
      "100\n",
      "Getting page: 28\n",
      "100\n",
      "Getting page: 29\n",
      "100\n"
     ]
    }
   ],
   "source": [
    "for x in range(1,30):\n",
    "    soup = get_soup(f'https://www.amazon.in/Bose-Noise-Cancelling-Headphones-Silver/product-reviews/B07Q4QK379/ref=cm_cr_getr_d_paging_btm_prev_1?ie=UTF8&reviewerType=all_reviews&pageNumber={x}')\n",
    "    print(f'Getting page: {x}')\n",
    "    get_reviews(soup)\n",
    "    print(len(reviewlist))\n",
    "    if not soup.find('li', {'class': 'a-disabled a-last'}):\n",
    "        pass\n",
    "    else:\n",
    "        break"
   ]
  },
  {
   "cell_type": "code",
   "execution_count": 17,
   "metadata": {},
   "outputs": [
    {
     "name": "stdout",
     "output_type": "stream",
     "text": [
      "Fin.\n"
     ]
    }
   ],
   "source": [
    "df = pd.DataFrame(reviewlist)\n",
    "df.to_excel('amazon_reviews.xlsx', index=False)\n",
    "print('Fin.' )"
   ]
  },
  {
   "cell_type": "code",
   "execution_count": 19,
   "metadata": {},
   "outputs": [],
   "source": [
    "import numpy as np # linear algebra\n",
    "import pandas as pd # data processing, CSV file I/O (e.g. pd.read_csv)\n",
    "import string # special operations on strings\n",
    "import spacy # language models\n",
    "\n",
    "from matplotlib.pyplot import imread\n",
    "from matplotlib import pyplot as plt\n",
    "from wordcloud import WordCloud\n",
    "%matplotlib inline"
   ]
  },
  {
   "cell_type": "code",
   "execution_count": 20,
   "metadata": {},
   "outputs": [
    {
     "data": {
      "text/html": [
       "<div>\n",
       "<style scoped>\n",
       "    .dataframe tbody tr th:only-of-type {\n",
       "        vertical-align: middle;\n",
       "    }\n",
       "\n",
       "    .dataframe tbody tr th {\n",
       "        vertical-align: top;\n",
       "    }\n",
       "\n",
       "    .dataframe thead th {\n",
       "        text-align: right;\n",
       "    }\n",
       "</style>\n",
       "<table border=\"1\" class=\"dataframe\">\n",
       "  <thead>\n",
       "    <tr style=\"text-align: right;\">\n",
       "      <th></th>\n",
       "      <th>product</th>\n",
       "      <th>title</th>\n",
       "      <th>rating</th>\n",
       "      <th>body</th>\n",
       "    </tr>\n",
       "  </thead>\n",
       "  <tbody>\n",
       "    <tr>\n",
       "      <th>0</th>\n",
       "      <td>Bose Noise Cancelling Wireless Bluetooth Headp...</td>\n",
       "      <td>Good NC  but doesn't support Windows!!</td>\n",
       "      <td>1.0</td>\n",
       "      <td>Choose NC 700 over QC 35 as it was offering be...</td>\n",
       "    </tr>\n",
       "    <tr>\n",
       "      <th>1</th>\n",
       "      <td>Bose Noise Cancelling Wireless Bluetooth Headp...</td>\n",
       "      <td>Lot of things need to improve</td>\n",
       "      <td>2.0</td>\n",
       "      <td>Latest update: since I am using it almost 2 ye...</td>\n",
       "    </tr>\n",
       "    <tr>\n",
       "      <th>2</th>\n",
       "      <td>Bose Noise Cancelling Wireless Bluetooth Headp...</td>\n",
       "      <td>Doesn’t work for WEBEX/SLACK call —IT GUYS NEV...</td>\n",
       "      <td>4.0</td>\n",
       "      <td>As NC 700 had 8 mics I thought it would be bet...</td>\n",
       "    </tr>\n",
       "    <tr>\n",
       "      <th>3</th>\n",
       "      <td>Bose Noise Cancelling Wireless Bluetooth Headp...</td>\n",
       "      <td>The best wireless noise-cancelling headphones ...</td>\n",
       "      <td>5.0</td>\n",
       "      <td>Detailed, accurate and warm soundImpressive an...</td>\n",
       "    </tr>\n",
       "    <tr>\n",
       "      <th>4</th>\n",
       "      <td>Bose Noise Cancelling Wireless Bluetooth Headp...</td>\n",
       "      <td>Only for audiophiles</td>\n",
       "      <td>5.0</td>\n",
       "      <td>At this price point everyone will know there w...</td>\n",
       "    </tr>\n",
       "    <tr>\n",
       "      <th>...</th>\n",
       "      <td>...</td>\n",
       "      <td>...</td>\n",
       "      <td>...</td>\n",
       "      <td>...</td>\n",
       "    </tr>\n",
       "    <tr>\n",
       "      <th>218</th>\n",
       "      <td>Bose Noise Cancelling Wireless Bluetooth Headp...</td>\n",
       "      <td>Excellent quality</td>\n",
       "      <td>5.0</td>\n",
       "      <td>Bose 700 headphones are the best ever ones.. T...</td>\n",
       "    </tr>\n",
       "    <tr>\n",
       "      <th>219</th>\n",
       "      <td>Bose Noise Cancelling Wireless Bluetooth Headp...</td>\n",
       "      <td>Genuine Seller!</td>\n",
       "      <td>5.0</td>\n",
       "      <td>The best one. Truly noise cancelling. Very sui...</td>\n",
       "    </tr>\n",
       "    <tr>\n",
       "      <th>220</th>\n",
       "      <td>Bose Noise Cancelling Wireless Bluetooth Headp...</td>\n",
       "      <td>Value for money</td>\n",
       "      <td>5.0</td>\n",
       "      <td>Excellent music quality.</td>\n",
       "    </tr>\n",
       "    <tr>\n",
       "      <th>221</th>\n",
       "      <td>Bose Noise Cancelling Wireless Bluetooth Headp...</td>\n",
       "      <td>Best ,as Bose is always best  .</td>\n",
       "      <td>5.0</td>\n",
       "      <td>Best</td>\n",
       "    </tr>\n",
       "    <tr>\n",
       "      <th>222</th>\n",
       "      <td>Bose Noise Cancelling Wireless Bluetooth Headp...</td>\n",
       "      <td>THE REVIEW YOU NEED TO READ.</td>\n",
       "      <td>3.0</td>\n",
       "      <td>I have been using the Bose Qc 35 for the past ...</td>\n",
       "    </tr>\n",
       "  </tbody>\n",
       "</table>\n",
       "<p>223 rows × 4 columns</p>\n",
       "</div>"
      ],
      "text/plain": [
       "                                               product  \\\n",
       "0    Bose Noise Cancelling Wireless Bluetooth Headp...   \n",
       "1    Bose Noise Cancelling Wireless Bluetooth Headp...   \n",
       "2    Bose Noise Cancelling Wireless Bluetooth Headp...   \n",
       "3    Bose Noise Cancelling Wireless Bluetooth Headp...   \n",
       "4    Bose Noise Cancelling Wireless Bluetooth Headp...   \n",
       "..                                                 ...   \n",
       "218  Bose Noise Cancelling Wireless Bluetooth Headp...   \n",
       "219  Bose Noise Cancelling Wireless Bluetooth Headp...   \n",
       "220  Bose Noise Cancelling Wireless Bluetooth Headp...   \n",
       "221  Bose Noise Cancelling Wireless Bluetooth Headp...   \n",
       "222  Bose Noise Cancelling Wireless Bluetooth Headp...   \n",
       "\n",
       "                                                 title  rating  \\\n",
       "0               Good NC  but doesn't support Windows!!     1.0   \n",
       "1                        Lot of things need to improve     2.0   \n",
       "2    Doesn’t work for WEBEX/SLACK call —IT GUYS NEV...     4.0   \n",
       "3    The best wireless noise-cancelling headphones ...     5.0   \n",
       "4                                 Only for audiophiles     5.0   \n",
       "..                                                 ...     ...   \n",
       "218                                  Excellent quality     5.0   \n",
       "219                                    Genuine Seller!     5.0   \n",
       "220                                    Value for money     5.0   \n",
       "221                    Best ,as Bose is always best  .     5.0   \n",
       "222                       THE REVIEW YOU NEED TO READ.     3.0   \n",
       "\n",
       "                                                  body  \n",
       "0    Choose NC 700 over QC 35 as it was offering be...  \n",
       "1    Latest update: since I am using it almost 2 ye...  \n",
       "2    As NC 700 had 8 mics I thought it would be bet...  \n",
       "3    Detailed, accurate and warm soundImpressive an...  \n",
       "4    At this price point everyone will know there w...  \n",
       "..                                                 ...  \n",
       "218  Bose 700 headphones are the best ever ones.. T...  \n",
       "219  The best one. Truly noise cancelling. Very sui...  \n",
       "220                           Excellent music quality.  \n",
       "221                                               Best  \n",
       "222  I have been using the Bose Qc 35 for the past ...  \n",
       "\n",
       "[223 rows x 4 columns]"
      ]
     },
     "execution_count": 20,
     "metadata": {},
     "output_type": "execute_result"
    }
   ],
   "source": [
    "txt=pd.read_csv(\"D://reviews.csv\",error_bad_lines=False)\n",
    "txt"
   ]
  },
  {
   "cell_type": "code",
   "execution_count": 23,
   "metadata": {},
   "outputs": [
    {
     "data": {
      "text/plain": [
       "[\"Choose NC 700 over QC 35 as it was offering better call quality.This Headphone always gives a crackling sounds when connected to the windows 10 device.And now I was told by the customer support that NC 700 is not supposed to work with windows10 PC.So they don't support.\",\n",
       " \"Latest update: since I am using it almost 2 years, if you have sweat issue or wear on hot summer, ear cushion will tear apart. Just added image for your reference.It's made in CHINA.After using for almost 1 year, I found charging issue is there. It's not showing 100 % when charging almost 3 hours. Secondly, it will not connect with your Bluetooth TV, the mechanism is different. For that, you need a device. Bose removed AR features too.I am comparing it with 1000xm3. I have both one.The only thing i like is it's design and softness. For long hours you can hang with it.For sound quality, if you like softness (not heavy bass) in the music, this for you.When u increase volume to the full, it's sometimes hurt your ear.No bose AR for Android user yet.Noise cancellation works fine but further it need to be improve.Even bose app don't have amazon music integration for indian user. For sportify, need to subscribe. So, no use of app till now. May be further,they can improve.Calling is too good.Why I bought this because of it's design and light weight. It's seems to be fit in your ears as with sony, feels like big and heavy. Most important, this is in initial phase of development. Might be they improve in coming version in terms of App.\",\n",
       " 'As NC 700 had 8 mics I thought it would be better for calls, and bought it.Since day 1 It gives Robotic voice on WebEx call or Slack calls. And checked on Bose community it is not solved since long time. Even on latest firmware update 4.x it’s not solved checked on 6th July.Also despite lock down relaxed in Bangalore the only service Center of Bose is never opened.Really bad experience after buying 35K headphonesWith regards to noise cancellation also not really happy.Update:Returned the older ones Replacement works with Webex calls.Newer headphones Manufactured after Jan 2020 works really well no Robotic issue any more on new ones.On calls its crisp and clear. Noise cancellation is good on calls I have a AirCooler running  making huge noise, People on other side of call dont complain about it.',\n",
       " 'Detailed, accurate and warm soundImpressive and Amazing noise cancellationBest-in-class voice calls, even tried in Trains and Crowded places, works like a charm.Sleek, low-profile designResponsive touch controlsComfortable to wear even for as long as 8 hours ( i have personally tried it twice).That being said, you wouldn’t be making a mistake if you opted for the Bose 700  – they sound great, look stunning, and the noise-cancelation is out of this world.Highly Recommended.',\n",
       " 'At this price point everyone will know there will be no compromise at all.Bose has done a excellent job.1.Sound quality:Once upon a time i was a pure bass head😂 i thought that Bass is the only thing which will make you to enjoy the songs and music but when my friend gave me to use audio technica for some days i was completely blown away by the sound quality which was too realistic and detailed after that i have started to hate the extra bass bcoz more bass reduces the actual sound quality it may feel rich while listening to songs but while watching movies you can notice the loss of audio quality dramatically.Coming to this product the sound quality is well balanced highs mids lows are perfect its really a pleasure to hear music from this headphones.Comfort:This one is not definitely comfortable as bose qc 35. I didn’t got any pain in my ears but its getting bit warm while using for some hours. For those who prefer more comfort especially when you use headphones for long hours i would suggest QC 35 II stills its a best from bose.Battery:Battery is the only thing which always disappoints me when coming to the Bose. Am getting roughly around 16 to 17 hrs when ANC is ON even when the ANC is off battery life is not so impressive but the good thing is it can charge faster at least.Noice cancellation:No words to describe the ANC its the best in the market right now better than sony wh 1000mx3.Verdict: Its definitely a great product for audiophiles but the price is the biggest setback of this product atleast for under 30k it would be a great product to buy....but when the special sale arrives you can get QC 35 II under 20k so personally i will recommend you to go for QC 35 which is best value for your money or else you can wait for some months and you can get this product at a deal price during specials sale days.Overall worth for the price.',\n",
       " \"[UPDATE AFTER 10 MONTHS]The headphones are made of very poor quality material. The earpads literally start dissolving and finer materials are falling each time. Considering that I've literally paid the most amount in an headphone, this has been pathetic. Contracted Bose and it's not even available. I can understand that due to Covid things aren't good but they literally don't pick up call, nor will they accept their manufacturing fault (search for NC 700 Silver Discoloration).Stay away from BOSE, it's better to get Airpods or buy from genuine brands such as SENNHEISER.[ORIGINAL REVIEW July 2020]I have been using these for a week now and I was hesitant at first before buying, because one, it was too costly and second, the reviews that have been mentioned doesn't give good promises. But I took the plunge anyway, but I am glad I did. Jotting down all the false reviews as mentioned:1: Yes, it does support Windows (Windows 10, 1903) without any issues whatsoever. Have been using them for Zoom, Hangouts and everything else for all my meetings and it works flawlessly with noise cancellation. Also using as a headset for games work too. You just have to select the sound output from Volume icon to Bose Headset. No crackling or  static noises.2: You can use the headphones without the Bose Connect app too. You just won't get the option to change your equalizer settings (yes it is present after you update the headphones), or fine tune your noise cancellation, but it just works like any other Bluetooth headphones out-of-the box.3: Bass Not Present - I think this is personal preference, but once you update your headphones, Bose has added EQ on the Bose app. You can increase the Bass to +10 and it does sound heavy and not distorted. Overall the sound quality is good on mids and very clear on high treble. If you want Bass, then you shouldn't be looking for Bose in the first place.But I wouldn't say there aren't any hiccups with this.- The battery life is stated for 20 hours but I am only getting 16:45 hours on a full charge. This is because they advertise it without noise cancelling on.- I see many people reviewing this without 'Verified Purchase' tag on reviews, which is very weird and just praising XM3s. While XM3 were my preference too, but the only single connection at a time was a let down for me (rumors that XM4 would have multi-connection support).- High price, it should have been around 28k - 30K.I think Bose has also fixed many of the issues from earlier reviews and is now a solid choice.\",\n",
       " \"No complaints about the headphones in terms of ANC and audio quality but I have some doubts about the seller. I'll tell you why I gave it 1 star. I bought it from Appario Retail Private last month since it's a very reputable seller in Amazon and I've bought many items from them. And I just found out that the manufacturing date on the box (May 2020) is not the same as it is in the Bose Music App (December 2019). I feel like I've been duped by the seller by putting an old or refurbished product manufactured in 2019 and repackaged into a new box. I've contacted Bose and they told me that it might be a repackaged product. Now I cannot replace it since the return window is closed. Now I'm stucked with my repackaged/used pair of cans which I paid the price for a new one. I didn't expect this kind of treatment from Amazon for a product that cost around 35,000 Rupees. Be careful mates and buy from Bose physical stores. Don't waste your hard earned money.Pros: Excellent noise cancellation, sleek design, great build qualityCons: Connectivity issues, sound quality is average\",\n",
       " \"I had purchased Noise cancelling headphones 700 on 6th June , 2020 through Amazon India .For the last two days these headphones have not been working. Not connecting to any device. These are fully charged ,however as soon as the power button is pressed the blue light blinks for 2-3 seconds and goes off but white and red light keeps blinking simultaneously. Ive tried resetting etc but in vain . I'M in india and all the service centers of Bose are closed. So therefore what to do? Its a clear case of deficiency in service on part of Bose. If service centers are closed indefinitely than why they are selling their product on e-commerce sites.\",\n",
       " \"I will come straight to the point which you might be looking for i.e.  Is it better than sony XM4 ?Before I answer this, let me tell you I was super confused before buying this Headphone. I was confused between Sony XM4 and Bose 700. I wanted headphone for my office meeting which can block background noise and at the same time is comfortable to wear for a long time.Answer :Long AnswerAnd after using this headphone for more than multiple hours  I can say :1. If you are really into bass go for Sony xm4.  Though you may see review and claims that sony are the leader if Noice cancellation headphone but I would say in NC sony cannot beat BOSE.2. I bought this headphone for one and only one reason -  noise cancellation during the call (office meeting) and hearing good music. This headphone can satisfy both the requirement. Sony noise cancellation on a call is really really bad. I believe the main reason for buying sony xm4 or bose  700  is noise cancellation and Bose is way ahead of sony. Trust me. And this headphone sound is also very good.  and it's so so so so comfortable.Short answer.Prefer bose 700 over the sony xm4.  PERIOD!!\",\n",
       " 'My first NC headphones, I m really happy with the performance. I was bit confused which one to buy between SONY or BOSE, to be honest I paid extra 15k extra to this monster compare to Sony which is available for 20K, trust me I didn’t regret one of the best in Industry. No second thoughts just go with it.']"
      ]
     },
     "execution_count": 23,
     "metadata": {},
     "output_type": "execute_result"
    }
   ],
   "source": [
    "txt = [body.strip() for body in txt.body]\n",
    "txt = [body for body in txt if body]\n",
    "txt[0:10]"
   ]
  },
  {
   "cell_type": "code",
   "execution_count": 25,
   "metadata": {},
   "outputs": [
    {
     "data": {
      "text/html": [
       "<span class=\"tex2jax_ignore\"><div class=\"entities\" style=\"line-height: 2.5; direction: ltr\">As \n",
       "<mark class=\"entity\" style=\"background: #feca74; padding: 0.45em 0.6em; margin: 0 0.25em; line-height: 1; border-radius: 0.35em;\">\n",
       "    NC\n",
       "    <span style=\"font-size: 0.8em; font-weight: bold; line-height: 1; border-radius: 0.35em; vertical-align: middle; margin-left: 0.5rem\">GPE</span>\n",
       "</mark>\n",
       " \n",
       "<mark class=\"entity\" style=\"background: #e4e7d2; padding: 0.45em 0.6em; margin: 0 0.25em; line-height: 1; border-radius: 0.35em;\">\n",
       "    700\n",
       "    <span style=\"font-size: 0.8em; font-weight: bold; line-height: 1; border-radius: 0.35em; vertical-align: middle; margin-left: 0.5rem\">CARDINAL</span>\n",
       "</mark>\n",
       " had \n",
       "<mark class=\"entity\" style=\"background: #e4e7d2; padding: 0.45em 0.6em; margin: 0 0.25em; line-height: 1; border-radius: 0.35em;\">\n",
       "    8\n",
       "    <span style=\"font-size: 0.8em; font-weight: bold; line-height: 1; border-radius: 0.35em; vertical-align: middle; margin-left: 0.5rem\">CARDINAL</span>\n",
       "</mark>\n",
       " mics I thought it would be better for calls, and bought it.Since day 1 It gives \n",
       "<mark class=\"entity\" style=\"background: #7aecec; padding: 0.45em 0.6em; margin: 0 0.25em; line-height: 1; border-radius: 0.35em;\">\n",
       "    Robotic\n",
       "    <span style=\"font-size: 0.8em; font-weight: bold; line-height: 1; border-radius: 0.35em; vertical-align: middle; margin-left: 0.5rem\">ORG</span>\n",
       "</mark>\n",
       " voice on WebEx call or Slack calls. And checked on Bose community it is not solved since long time. Even on latest firmware update 4.x it’s not solved checked on \n",
       "<mark class=\"entity\" style=\"background: #bfe1d9; padding: 0.45em 0.6em; margin: 0 0.25em; line-height: 1; border-radius: 0.35em;\">\n",
       "    6th July\n",
       "    <span style=\"font-size: 0.8em; font-weight: bold; line-height: 1; border-radius: 0.35em; vertical-align: middle; margin-left: 0.5rem\">DATE</span>\n",
       "</mark>\n",
       ".Also despite lock down relaxed in \n",
       "<mark class=\"entity\" style=\"background: #feca74; padding: 0.45em 0.6em; margin: 0 0.25em; line-height: 1; border-radius: 0.35em;\">\n",
       "    Bangalore\n",
       "    <span style=\"font-size: 0.8em; font-weight: bold; line-height: 1; border-radius: 0.35em; vertical-align: middle; margin-left: 0.5rem\">GPE</span>\n",
       "</mark>\n",
       " the only service \n",
       "<mark class=\"entity\" style=\"background: #7aecec; padding: 0.45em 0.6em; margin: 0 0.25em; line-height: 1; border-radius: 0.35em;\">\n",
       "    Center of Bose\n",
       "    <span style=\"font-size: 0.8em; font-weight: bold; line-height: 1; border-radius: 0.35em; vertical-align: middle; margin-left: 0.5rem\">ORG</span>\n",
       "</mark>\n",
       " is never opened.Really bad experience after buying \n",
       "<mark class=\"entity\" style=\"background: #e4e7d2; padding: 0.45em 0.6em; margin: 0 0.25em; line-height: 1; border-radius: 0.35em;\">\n",
       "    35\n",
       "    <span style=\"font-size: 0.8em; font-weight: bold; line-height: 1; border-radius: 0.35em; vertical-align: middle; margin-left: 0.5rem\">CARDINAL</span>\n",
       "</mark>\n",
       "K headphonesWith regards to noise cancellation also not really happy.Update:Returned the older ones Replacement works with Webex calls.Newer headphones Manufactured after \n",
       "<mark class=\"entity\" style=\"background: #bfe1d9; padding: 0.45em 0.6em; margin: 0 0.25em; line-height: 1; border-radius: 0.35em;\">\n",
       "    Jan 2020\n",
       "    <span style=\"font-size: 0.8em; font-weight: bold; line-height: 1; border-radius: 0.35em; vertical-align: middle; margin-left: 0.5rem\">DATE</span>\n",
       "</mark>\n",
       " works really well no \n",
       "<mark class=\"entity\" style=\"background: #7aecec; padding: 0.45em 0.6em; margin: 0 0.25em; line-height: 1; border-radius: 0.35em;\">\n",
       "    Robotic\n",
       "    <span style=\"font-size: 0.8em; font-weight: bold; line-height: 1; border-radius: 0.35em; vertical-align: middle; margin-left: 0.5rem\">ORG</span>\n",
       "</mark>\n",
       " issue any more on new ones.On calls its crisp and clear. Noise cancellation is good on calls I have a \n",
       "<mark class=\"entity\" style=\"background: #aa9cfc; padding: 0.45em 0.6em; margin: 0 0.25em; line-height: 1; border-radius: 0.35em;\">\n",
       "    AirCooler\n",
       "    <span style=\"font-size: 0.8em; font-weight: bold; line-height: 1; border-radius: 0.35em; vertical-align: middle; margin-left: 0.5rem\">PERSON</span>\n",
       "</mark>\n",
       " running  making huge noise, People on other side of call dont complain about it.</div></span>"
      ],
      "text/plain": [
       "<IPython.core.display.HTML object>"
      ]
     },
     "metadata": {},
     "output_type": "display_data"
    }
   ],
   "source": [
    "nlp = spacy.load('en_core_web_sm')\n",
    "\n",
    "one_block = txt[2]\n",
    "doc_block = nlp(one_block)\n",
    "spacy.displacy.render(doc_block, style='ent', jupyter=True)"
   ]
  },
  {
   "cell_type": "code",
   "execution_count": 26,
   "metadata": {},
   "outputs": [
    {
     "data": {
      "text/plain": [
       "'As NC 700 had 8 mics I thought it would be better for calls, and bought it.Since day 1 It gives Robotic voice on WebEx call or Slack calls. And checked on Bose community it is not solved since long time. Even on latest firmware update 4.x it’s not solved checked on 6th July.Also despite lock down relaxed in Bangalore the only service Center of Bose is never opened.Really bad experience after buying 35K headphonesWith regards to noise cancellation also not really happy.Update:Returned the older ones Replacement works with Webex calls.Newer headphones Manufactured after Jan 2020 works really well no Robotic issue any more on new ones.On calls its crisp and clear. Noise cancellation is good on calls I have a AirCooler running  making huge noise, People on other side of call dont complain about it.'"
      ]
     },
     "execution_count": 26,
     "metadata": {},
     "output_type": "execute_result"
    }
   ],
   "source": [
    "one_block"
   ]
  },
  {
   "cell_type": "code",
   "execution_count": 27,
   "metadata": {},
   "outputs": [
    {
     "name": "stdout",
     "output_type": "stream",
     "text": [
      "As ADP\n",
      "NC PROPN\n",
      "700 NUM\n",
      "had VERB\n",
      "8 NUM\n",
      "mics NOUN\n",
      "I PRON\n",
      "thought VERB\n",
      "it PRON\n",
      "would AUX\n",
      "be VERB\n",
      "better ADJ\n",
      "for ADP\n",
      "calls NOUN\n",
      ", PUNCT\n",
      "and CCONJ\n",
      "bought VERB\n",
      "it PRON\n",
      ". PUNCT\n",
      "Since SCONJ\n"
     ]
    }
   ],
   "source": [
    "for token in doc_block[0:20]:\n",
    "    print(token, token.pos_)"
   ]
  },
  {
   "cell_type": "code",
   "execution_count": 28,
   "metadata": {},
   "outputs": [
    {
     "name": "stdout",
     "output_type": "stream",
     "text": [
      "['bought', 'day', 'gives', 'voice', 'call', 'calls', 'checked', 'community', 'solved', 'time', 'firmware', 'update', 'solved', 'checked', 'lock', 'service', 'opened', 'experience', 'buying', 'regards']\n"
     ]
    }
   ],
   "source": [
    "nouns_verbs = [token.text for token in doc_block if token.pos_ in ('NOUN', 'VERB')]\n",
    "print(nouns_verbs[5:25])"
   ]
  },
  {
   "cell_type": "code",
   "execution_count": 29,
   "metadata": {},
   "outputs": [
    {
     "data": {
      "text/html": [
       "<div>\n",
       "<style scoped>\n",
       "    .dataframe tbody tr th:only-of-type {\n",
       "        vertical-align: middle;\n",
       "    }\n",
       "\n",
       "    .dataframe tbody tr th {\n",
       "        vertical-align: top;\n",
       "    }\n",
       "\n",
       "    .dataframe thead th {\n",
       "        text-align: right;\n",
       "    }\n",
       "</style>\n",
       "<table border=\"1\" class=\"dataframe\">\n",
       "  <thead>\n",
       "    <tr style=\"text-align: right;\">\n",
       "      <th></th>\n",
       "      <th>word</th>\n",
       "      <th>count</th>\n",
       "    </tr>\n",
       "  </thead>\n",
       "  <tbody>\n",
       "    <tr>\n",
       "      <th>0</th>\n",
       "      <td>calls</td>\n",
       "      <td>5</td>\n",
       "    </tr>\n",
       "    <tr>\n",
       "      <th>1</th>\n",
       "      <td>noise</td>\n",
       "      <td>3</td>\n",
       "    </tr>\n",
       "    <tr>\n",
       "      <th>2</th>\n",
       "      <td>call</td>\n",
       "      <td>2</td>\n",
       "    </tr>\n",
       "    <tr>\n",
       "      <th>3</th>\n",
       "      <td>checked</td>\n",
       "      <td>2</td>\n",
       "    </tr>\n",
       "    <tr>\n",
       "      <th>4</th>\n",
       "      <td>solved</td>\n",
       "      <td>2</td>\n",
       "    </tr>\n",
       "    <tr>\n",
       "      <th>5</th>\n",
       "      <td>update</td>\n",
       "      <td>2</td>\n",
       "    </tr>\n",
       "    <tr>\n",
       "      <th>6</th>\n",
       "      <td>cancellation</td>\n",
       "      <td>2</td>\n",
       "    </tr>\n",
       "    <tr>\n",
       "      <th>7</th>\n",
       "      <td>ones</td>\n",
       "      <td>2</td>\n",
       "    </tr>\n",
       "    <tr>\n",
       "      <th>8</th>\n",
       "      <td>works</td>\n",
       "      <td>2</td>\n",
       "    </tr>\n",
       "    <tr>\n",
       "      <th>9</th>\n",
       "      <td>had</td>\n",
       "      <td>1</td>\n",
       "    </tr>\n",
       "  </tbody>\n",
       "</table>\n",
       "</div>"
      ],
      "text/plain": [
       "           word  count\n",
       "0         calls      5\n",
       "1         noise      3\n",
       "2          call      2\n",
       "3       checked      2\n",
       "4        solved      2\n",
       "5        update      2\n",
       "6  cancellation      2\n",
       "7          ones      2\n",
       "8         works      2\n",
       "9           had      1"
      ]
     },
     "execution_count": 29,
     "metadata": {},
     "output_type": "execute_result"
    }
   ],
   "source": [
    "from sklearn.feature_extraction.text import CountVectorizer\n",
    "cv = CountVectorizer()\n",
    "\n",
    "X = cv.fit_transform(nouns_verbs)\n",
    "sum_words = X.sum(axis=0)\n",
    "words_freq = [(word, sum_words[0, idx]) for word, idx in cv.vocabulary_.items()]\n",
    "words_freq =sorted(words_freq, key = lambda x: x[1], reverse=True)\n",
    "wf_df = pd.DataFrame(words_freq)\n",
    "wf_df.columns = ['word', 'count']\n",
    "\n",
    "wf_df[0:10]"
   ]
  },
  {
   "cell_type": "code",
   "execution_count": 30,
   "metadata": {},
   "outputs": [
    {
     "data": {
      "text/plain": [
       "<AxesSubplot:title={'center':'Top verbs and nouns'}, xlabel='word'>"
      ]
     },
     "execution_count": 30,
     "metadata": {},
     "output_type": "execute_result"
    },
    {
     "data": {
      "image/png": "[encoded data removed]",
      "text/plain": [
       "<Figure size 864x576 with 1 Axes>"
      ]
     },
     "metadata": {
      "needs_background": "light"
     },
     "output_type": "display_data"
    }
   ],
   "source": [
    "wf_df[0:10].plot.bar(x='word', figsize=(12,8), title='Top verbs and nouns')"
   ]
  },
  {
   "cell_type": "code",
   "execution_count": 31,
   "metadata": {},
   "outputs": [
    {
     "data": {
      "text/plain": [
       "(2477, 2)"
      ]
     },
     "execution_count": 31,
     "metadata": {},
     "output_type": "execute_result"
    }
   ],
   "source": [
    "afinn = pd.read_csv('D://DS//Afinn.csv', sep=',', encoding='latin-1')\n",
    "afinn.shape"
   ]
  },
  {
   "cell_type": "code",
   "execution_count": 32,
   "metadata": {},
   "outputs": [
    {
     "data": {
      "text/html": [
       "<div>\n",
       "<style scoped>\n",
       "    .dataframe tbody tr th:only-of-type {\n",
       "        vertical-align: middle;\n",
       "    }\n",
       "\n",
       "    .dataframe tbody tr th {\n",
       "        vertical-align: top;\n",
       "    }\n",
       "\n",
       "    .dataframe thead th {\n",
       "        text-align: right;\n",
       "    }\n",
       "</style>\n",
       "<table border=\"1\" class=\"dataframe\">\n",
       "  <thead>\n",
       "    <tr style=\"text-align: right;\">\n",
       "      <th></th>\n",
       "      <th>word</th>\n",
       "      <th>value</th>\n",
       "    </tr>\n",
       "  </thead>\n",
       "  <tbody>\n",
       "    <tr>\n",
       "      <th>0</th>\n",
       "      <td>abandon</td>\n",
       "      <td>-2</td>\n",
       "    </tr>\n",
       "    <tr>\n",
       "      <th>1</th>\n",
       "      <td>abandoned</td>\n",
       "      <td>-2</td>\n",
       "    </tr>\n",
       "    <tr>\n",
       "      <th>2</th>\n",
       "      <td>abandons</td>\n",
       "      <td>-2</td>\n",
       "    </tr>\n",
       "    <tr>\n",
       "      <th>3</th>\n",
       "      <td>abducted</td>\n",
       "      <td>-2</td>\n",
       "    </tr>\n",
       "    <tr>\n",
       "      <th>4</th>\n",
       "      <td>abduction</td>\n",
       "      <td>-2</td>\n",
       "    </tr>\n",
       "  </tbody>\n",
       "</table>\n",
       "</div>"
      ],
      "text/plain": [
       "        word  value\n",
       "0    abandon     -2\n",
       "1  abandoned     -2\n",
       "2   abandons     -2\n",
       "3   abducted     -2\n",
       "4  abduction     -2"
      ]
     },
     "execution_count": 32,
     "metadata": {},
     "output_type": "execute_result"
    }
   ],
   "source": [
    "afinn.head()"
   ]
  },
  {
   "cell_type": "code",
   "execution_count": 33,
   "metadata": {},
   "outputs": [
    {
     "data": {
      "text/plain": [
       "['For that, you need a device.',\n",
       " 'Bose removed AR features too.I am comparing it with 1000xm3.',\n",
       " \"I have both one.The only thing i like is it's design and softness.\",\n",
       " \"For long hours you can hang with it.For sound quality, if you like softness (not heavy bass) in the music, this for you.When u increase volume to the full, it's sometimes hurt your ear.No bose AR for Android user yet.Noise cancellation works fine but further it need to be improve.Even bose app don't have amazon music integration for indian user.\",\n",
       " 'For sportify, need to subscribe.',\n",
       " 'So, no use of app till now.',\n",
       " \"May be further,they can improve.Calling is too good.Why I bought this because of it's design and light weight.\",\n",
       " \"It's seems to be fit in your ears as with sony, feels like big and heavy.\",\n",
       " 'Most important, this is in initial phase of development.',\n",
       " 'Might be they improve in coming version in terms of App.']"
      ]
     },
     "execution_count": 33,
     "metadata": {},
     "output_type": "execute_result"
    }
   ],
   "source": [
    "from nltk import tokenize\n",
    "sentences = tokenize.sent_tokenize(\" \".join(txt))\n",
    "sentences[5:15]"
   ]
  },
  {
   "cell_type": "code",
   "execution_count": 34,
   "metadata": {},
   "outputs": [
    {
     "data": {
      "text/html": [
       "<div>\n",
       "<style scoped>\n",
       "    .dataframe tbody tr th:only-of-type {\n",
       "        vertical-align: middle;\n",
       "    }\n",
       "\n",
       "    .dataframe tbody tr th {\n",
       "        vertical-align: top;\n",
       "    }\n",
       "\n",
       "    .dataframe thead th {\n",
       "        text-align: right;\n",
       "    }\n",
       "</style>\n",
       "<table border=\"1\" class=\"dataframe\">\n",
       "  <thead>\n",
       "    <tr style=\"text-align: right;\">\n",
       "      <th></th>\n",
       "      <th>sentence</th>\n",
       "    </tr>\n",
       "  </thead>\n",
       "  <tbody>\n",
       "    <tr>\n",
       "      <th>0</th>\n",
       "      <td>Choose NC 700 over QC 35 as it was offering be...</td>\n",
       "    </tr>\n",
       "    <tr>\n",
       "      <th>1</th>\n",
       "      <td>Latest update: since I am using it almost 2 ye...</td>\n",
       "    </tr>\n",
       "    <tr>\n",
       "      <th>2</th>\n",
       "      <td>Just added image for your reference.It's made ...</td>\n",
       "    </tr>\n",
       "    <tr>\n",
       "      <th>3</th>\n",
       "      <td>It's not showing 100 % when charging almost 3 ...</td>\n",
       "    </tr>\n",
       "    <tr>\n",
       "      <th>4</th>\n",
       "      <td>Secondly, it will not connect with your Blueto...</td>\n",
       "    </tr>\n",
       "    <tr>\n",
       "      <th>...</th>\n",
       "      <td>...</td>\n",
       "    </tr>\n",
       "    <tr>\n",
       "      <th>845</th>\n",
       "      <td>Cofusing and never wants to connect.</td>\n",
       "    </tr>\n",
       "    <tr>\n",
       "      <th>846</th>\n",
       "      <td>It has been 10 days since I saw it connect wit...</td>\n",
       "    </tr>\n",
       "    <tr>\n",
       "      <th>847</th>\n",
       "      <td>I am not sure what is wrong but there are way ...</td>\n",
       "    </tr>\n",
       "    <tr>\n",
       "      <th>848</th>\n",
       "      <td>I still think it is a good product and if I wa...</td>\n",
       "    </tr>\n",
       "    <tr>\n",
       "      <th>849</th>\n",
       "      <td>But they won't become more comfortable.My verd...</td>\n",
       "    </tr>\n",
       "  </tbody>\n",
       "</table>\n",
       "<p>850 rows × 1 columns</p>\n",
       "</div>"
      ],
      "text/plain": [
       "                                              sentence\n",
       "0    Choose NC 700 over QC 35 as it was offering be...\n",
       "1    Latest update: since I am using it almost 2 ye...\n",
       "2    Just added image for your reference.It's made ...\n",
       "3    It's not showing 100 % when charging almost 3 ...\n",
       "4    Secondly, it will not connect with your Blueto...\n",
       "..                                                 ...\n",
       "845               Cofusing and never wants to connect.\n",
       "846  It has been 10 days since I saw it connect wit...\n",
       "847  I am not sure what is wrong but there are way ...\n",
       "848  I still think it is a good product and if I wa...\n",
       "849  But they won't become more comfortable.My verd...\n",
       "\n",
       "[850 rows x 1 columns]"
      ]
     },
     "execution_count": 34,
     "metadata": {},
     "output_type": "execute_result"
    }
   ],
   "source": [
    "sent_df = pd.DataFrame(sentences, columns=['sentence'])\n",
    "sent_df"
   ]
  },
  {
   "cell_type": "code",
   "execution_count": 35,
   "metadata": {},
   "outputs": [],
   "source": [
    "affinity_scores = afinn.set_index('word')['value'].to_dict()"
   ]
  },
  {
   "cell_type": "code",
   "execution_count": 37,
   "metadata": {},
   "outputs": [],
   "source": [
    "nlp = spacy.load('en_core_web_sm')\n",
    "sentiment_lexicon = affinity_scores\n",
    "\n",
    "def calculate_sentiment(text: str = None):\n",
    "    sent_score = 0\n",
    "    if text:\n",
    "        sentence = nlp(text)\n",
    "        for word in sentence:\n",
    "            sent_score += sentiment_lexicon.get(word.lemma_, 0)\n",
    "    return sent_score"
   ]
  },
  {
   "cell_type": "code",
   "execution_count": 42,
   "metadata": {},
   "outputs": [
    {
     "data": {
      "text/plain": [
       "1"
      ]
     },
     "execution_count": 42,
     "metadata": {},
     "output_type": "execute_result"
    }
   ],
   "source": [
    "calculate_sentiment(text = 'solve')"
   ]
  },
  {
   "cell_type": "code",
   "execution_count": 43,
   "metadata": {},
   "outputs": [],
   "source": [
    "sent_df['sentiment_value'] = sent_df['sentence'].apply(calculate_sentiment)"
   ]
  },
  {
   "cell_type": "code",
   "execution_count": 44,
   "metadata": {},
   "outputs": [
    {
     "data": {
      "text/plain": [
       "0    48\n",
       "1    25\n",
       "2    20\n",
       "3    10\n",
       "4    13\n",
       "5     6\n",
       "6    10\n",
       "7    13\n",
       "8    60\n",
       "9     5\n",
       "Name: word_count, dtype: int64"
      ]
     },
     "execution_count": 44,
     "metadata": {},
     "output_type": "execute_result"
    }
   ],
   "source": [
    "sent_df['word_count'] = sent_df['sentence'].str.split().apply(len)\n",
    "sent_df['word_count'].head(10)"
   ]
  },
  {
   "cell_type": "code",
   "execution_count": 45,
   "metadata": {},
   "outputs": [
    {
     "data": {
      "text/html": [
       "<div>\n",
       "<style scoped>\n",
       "    .dataframe tbody tr th:only-of-type {\n",
       "        vertical-align: middle;\n",
       "    }\n",
       "\n",
       "    .dataframe tbody tr th {\n",
       "        vertical-align: top;\n",
       "    }\n",
       "\n",
       "    .dataframe thead th {\n",
       "        text-align: right;\n",
       "    }\n",
       "</style>\n",
       "<table border=\"1\" class=\"dataframe\">\n",
       "  <thead>\n",
       "    <tr style=\"text-align: right;\">\n",
       "      <th></th>\n",
       "      <th>sentence</th>\n",
       "      <th>sentiment_value</th>\n",
       "      <th>word_count</th>\n",
       "    </tr>\n",
       "  </thead>\n",
       "  <tbody>\n",
       "    <tr>\n",
       "      <th>19</th>\n",
       "      <td>Detailed, accurate and warm soundImpressive an...</td>\n",
       "      <td>17</td>\n",
       "      <td>72</td>\n",
       "    </tr>\n",
       "    <tr>\n",
       "      <th>508</th>\n",
       "      <td>Best ever quality and great quality of sound a...</td>\n",
       "      <td>19</td>\n",
       "      <td>74</td>\n",
       "    </tr>\n",
       "    <tr>\n",
       "      <th>279</th>\n",
       "      <td>Software Issues:So I bought these headphones i...</td>\n",
       "      <td>19</td>\n",
       "      <td>421</td>\n",
       "    </tr>\n",
       "    <tr>\n",
       "      <th>564</th>\n",
       "      <td>(No app needed and also no connectivity proble...</td>\n",
       "      <td>20</td>\n",
       "      <td>288</td>\n",
       "    </tr>\n",
       "    <tr>\n",
       "      <th>23</th>\n",
       "      <td>Am getting roughly around 16 to 17 hrs when AN...</td>\n",
       "      <td>22</td>\n",
       "      <td>140</td>\n",
       "    </tr>\n",
       "    <tr>\n",
       "      <th>533</th>\n",
       "      <td>Very good noise cancellation headsets Super qu...</td>\n",
       "      <td>23</td>\n",
       "      <td>51</td>\n",
       "    </tr>\n",
       "    <tr>\n",
       "      <th>534</th>\n",
       "      <td>Noise cancellation is good but perfect when co...</td>\n",
       "      <td>23</td>\n",
       "      <td>47</td>\n",
       "    </tr>\n",
       "    <tr>\n",
       "      <th>190</th>\n",
       "      <td>So i bought both the Sony WH-1000xm3 and Bose ...</td>\n",
       "      <td>24</td>\n",
       "      <td>84</td>\n",
       "    </tr>\n",
       "    <tr>\n",
       "      <th>307</th>\n",
       "      <td>So if you are into taking lot of calls then th...</td>\n",
       "      <td>25</td>\n",
       "      <td>139</td>\n",
       "    </tr>\n",
       "    <tr>\n",
       "      <th>120</th>\n",
       "      <td>After reading a lot of reviews for the amazing...</td>\n",
       "      <td>34</td>\n",
       "      <td>298</td>\n",
       "    </tr>\n",
       "  </tbody>\n",
       "</table>\n",
       "</div>"
      ],
      "text/plain": [
       "                                              sentence  sentiment_value  \\\n",
       "19   Detailed, accurate and warm soundImpressive an...               17   \n",
       "508  Best ever quality and great quality of sound a...               19   \n",
       "279  Software Issues:So I bought these headphones i...               19   \n",
       "564  (No app needed and also no connectivity proble...               20   \n",
       "23   Am getting roughly around 16 to 17 hrs when AN...               22   \n",
       "533  Very good noise cancellation headsets Super qu...               23   \n",
       "534  Noise cancellation is good but perfect when co...               23   \n",
       "190  So i bought both the Sony WH-1000xm3 and Bose ...               24   \n",
       "307  So if you are into taking lot of calls then th...               25   \n",
       "120  After reading a lot of reviews for the amazing...               34   \n",
       "\n",
       "     word_count  \n",
       "19           72  \n",
       "508          74  \n",
       "279         421  \n",
       "564         288  \n",
       "23          140  \n",
       "533          51  \n",
       "534          47  \n",
       "190          84  \n",
       "307         139  \n",
       "120         298  "
      ]
     },
     "execution_count": 45,
     "metadata": {},
     "output_type": "execute_result"
    }
   ],
   "source": [
    "sent_df.sort_values(by='sentiment_value').tail(10)"
   ]
  },
  {
   "cell_type": "code",
   "execution_count": 46,
   "metadata": {},
   "outputs": [
    {
     "data": {
      "text/plain": [
       "count    850.000000\n",
       "mean       1.585882\n",
       "std        3.777721\n",
       "min       -6.000000\n",
       "25%        0.000000\n",
       "50%        0.000000\n",
       "75%        3.000000\n",
       "max       34.000000\n",
       "Name: sentiment_value, dtype: float64"
      ]
     },
     "execution_count": 46,
     "metadata": {},
     "output_type": "execute_result"
    }
   ],
   "source": [
    "sent_df['sentiment_value'].describe()"
   ]
  },
  {
   "cell_type": "code",
   "execution_count": 47,
   "metadata": {},
   "outputs": [
    {
     "data": {
      "text/html": [
       "<div>\n",
       "<style scoped>\n",
       "    .dataframe tbody tr th:only-of-type {\n",
       "        vertical-align: middle;\n",
       "    }\n",
       "\n",
       "    .dataframe tbody tr th {\n",
       "        vertical-align: top;\n",
       "    }\n",
       "\n",
       "    .dataframe thead th {\n",
       "        text-align: right;\n",
       "    }\n",
       "</style>\n",
       "<table border=\"1\" class=\"dataframe\">\n",
       "  <thead>\n",
       "    <tr style=\"text-align: right;\">\n",
       "      <th></th>\n",
       "      <th>sentence</th>\n",
       "      <th>sentiment_value</th>\n",
       "      <th>word_count</th>\n",
       "    </tr>\n",
       "  </thead>\n",
       "  <tbody>\n",
       "    <tr>\n",
       "      <th>1</th>\n",
       "      <td>Latest update: since I am using it almost 2 ye...</td>\n",
       "      <td>0</td>\n",
       "      <td>25</td>\n",
       "    </tr>\n",
       "    <tr>\n",
       "      <th>2</th>\n",
       "      <td>Just added image for your reference.It's made ...</td>\n",
       "      <td>0</td>\n",
       "      <td>20</td>\n",
       "    </tr>\n",
       "    <tr>\n",
       "      <th>3</th>\n",
       "      <td>It's not showing 100 % when charging almost 3 ...</td>\n",
       "      <td>0</td>\n",
       "      <td>10</td>\n",
       "    </tr>\n",
       "    <tr>\n",
       "      <th>4</th>\n",
       "      <td>Secondly, it will not connect with your Blueto...</td>\n",
       "      <td>0</td>\n",
       "      <td>13</td>\n",
       "    </tr>\n",
       "    <tr>\n",
       "      <th>5</th>\n",
       "      <td>For that, you need a device.</td>\n",
       "      <td>0</td>\n",
       "      <td>6</td>\n",
       "    </tr>\n",
       "  </tbody>\n",
       "</table>\n",
       "</div>"
      ],
      "text/plain": [
       "                                            sentence  sentiment_value  \\\n",
       "1  Latest update: since I am using it almost 2 ye...                0   \n",
       "2  Just added image for your reference.It's made ...                0   \n",
       "3  It's not showing 100 % when charging almost 3 ...                0   \n",
       "4  Secondly, it will not connect with your Blueto...                0   \n",
       "5                       For that, you need a device.                0   \n",
       "\n",
       "   word_count  \n",
       "1          25  \n",
       "2          20  \n",
       "3          10  \n",
       "4          13  \n",
       "5           6  "
      ]
     },
     "execution_count": 47,
     "metadata": {},
     "output_type": "execute_result"
    }
   ],
   "source": [
    "sent_df[sent_df['sentiment_value']<=0].head()"
   ]
  },
  {
   "cell_type": "code",
   "execution_count": 48,
   "metadata": {},
   "outputs": [
    {
     "data": {
      "text/html": [
       "<div>\n",
       "<style scoped>\n",
       "    .dataframe tbody tr th:only-of-type {\n",
       "        vertical-align: middle;\n",
       "    }\n",
       "\n",
       "    .dataframe tbody tr th {\n",
       "        vertical-align: top;\n",
       "    }\n",
       "\n",
       "    .dataframe thead th {\n",
       "        text-align: right;\n",
       "    }\n",
       "</style>\n",
       "<table border=\"1\" class=\"dataframe\">\n",
       "  <thead>\n",
       "    <tr style=\"text-align: right;\">\n",
       "      <th></th>\n",
       "      <th>sentence</th>\n",
       "      <th>sentiment_value</th>\n",
       "      <th>word_count</th>\n",
       "    </tr>\n",
       "  </thead>\n",
       "  <tbody>\n",
       "    <tr>\n",
       "      <th>120</th>\n",
       "      <td>After reading a lot of reviews for the amazing...</td>\n",
       "      <td>34</td>\n",
       "      <td>298</td>\n",
       "    </tr>\n",
       "  </tbody>\n",
       "</table>\n",
       "</div>"
      ],
      "text/plain": [
       "                                              sentence  sentiment_value  \\\n",
       "120  After reading a lot of reviews for the amazing...               34   \n",
       "\n",
       "     word_count  \n",
       "120         298  "
      ]
     },
     "execution_count": 48,
     "metadata": {},
     "output_type": "execute_result"
    }
   ],
   "source": [
    "sent_df[sent_df['sentiment_value']>=30].head()"
   ]
  },
  {
   "cell_type": "code",
   "execution_count": 49,
   "metadata": {},
   "outputs": [],
   "source": [
    "sent_df['index']=range(0,len(sent_df))"
   ]
  },
  {
   "cell_type": "code",
   "execution_count": 50,
   "metadata": {},
   "outputs": [
    {
     "name": "stderr",
     "output_type": "stream",
     "text": [
      "C:\\Users\\AMAN SRIVASTAVA\\anaconda3\\lib\\site-packages\\seaborn\\distributions.py:2551: FutureWarning: `distplot` is a deprecated function and will be removed in a future version. Please adapt your code to use either `displot` (a figure-level function with similar flexibility) or `histplot` (an axes-level function for histograms).\n",
      "  warnings.warn(msg, FutureWarning)\n"
     ]
    },
    {
     "data": {
      "text/plain": [
       "<AxesSubplot:xlabel='sentiment_value', ylabel='Density'>"
      ]
     },
     "execution_count": 50,
     "metadata": {},
     "output_type": "execute_result"
    },
    {
     "data": {
      "image/png": "[encoded data removed]",
      "text/plain": [
       "<Figure size 432x288 with 1 Axes>"
      ]
     },
     "metadata": {
      "needs_background": "light"
     },
     "output_type": "display_data"
    }
   ],
   "source": [
    "import seaborn as sns\n",
    "import matplotlib.pyplot as plt\n",
    "sns.distplot(sent_df['sentiment_value'])"
   ]
  },
  {
   "cell_type": "code",
   "execution_count": 51,
   "metadata": {},
   "outputs": [
    {
     "data": {
      "text/plain": [
       "<AxesSubplot:xlabel='index', ylabel='sentiment_value'>"
      ]
     },
     "execution_count": 51,
     "metadata": {},
     "output_type": "execute_result"
    },
    {
     "data": {
      "image/png": "[encoded data removed]",
      "text/plain": [
       "<Figure size 1080x720 with 1 Axes>"
      ]
     },
     "metadata": {
      "needs_background": "light"
     },
     "output_type": "display_data"
    }
   ],
   "source": [
    "plt.figure(figsize=(15, 10))\n",
    "sns.lineplot(y='sentiment_value',x='index',data=sent_df)"
   ]
  },
  {
   "cell_type": "code",
   "execution_count": 52,
   "metadata": {},
   "outputs": [
    {
     "data": {
      "text/plain": [
       "<AxesSubplot:title={'center':'Sentence sentiment value to sentence word count'}, xlabel='word_count', ylabel='sentiment_value'>"
      ]
     },
     "execution_count": 52,
     "metadata": {},
     "output_type": "execute_result"
    },
    {
     "data": {
      "image/png": "[encoded data removed]",
      "text/plain": [
       "<Figure size 576x576 with 1 Axes>"
      ]
     },
     "metadata": {
      "needs_background": "light"
     },
     "output_type": "display_data"
    }
   ],
   "source": [
    "sent_df.plot.scatter(x='word_count', y='sentiment_value', figsize=(8,8), title='Sentence sentiment value to sentence word count')"
   ]
  },
  {
   "cell_type": "code",
   "execution_count": null,
   "metadata": {},
   "outputs": [],
   "source": []
  },
  {
   "cell_type": "code",
   "execution_count": null,
   "metadata": {},
   "outputs": [],
   "source": []
  },
  {
   "cell_type": "code",
   "execution_count": null,
   "metadata": {},
   "outputs": [],
   "source": []
  }
 ],
 "metadata": {
  "kernelspec": {
   "display_name": "Python 3",
   "language": "python",
   "name": "python3"
  },
  "language_info": {
   "codemirror_mode": {
    "name": "ipython",
    "version": 3
   },
   "file_extension": ".py",
   "mimetype": "text/x-python",
   "name": "python",
   "nbconvert_exporter": "python",
   "pygments_lexer": "ipython3",
   "version": "3.8.5"
  }
 },
 "nbformat": 4,
 "nbformat_minor": 4
}
